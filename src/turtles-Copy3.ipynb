{
 "cells": [
  {
   "cell_type": "code",
   "execution_count": 9,
   "metadata": {},
   "outputs": [],
   "source": [
    "import jinja2\n",
    "from copy import deepcopy\n",
    "import subprocess\n",
    "\n",
    "def make(*args):\n",
    "    return subprocess.check_output([\"make\", *args]).decode(\"UTF-8\")"
   ]
  },
  {
   "cell_type": "code",
   "execution_count": 5,
   "metadata": {},
   "outputs": [],
   "source": [
    "templateLoader = jinja2.FileSystemLoader(searchpath=\"./\")\n",
    "templateEnv = jinja2.Environment(loader=templateLoader)\n",
    "cpp_template = templateEnv.get_template(\"avr-AUTOSAR-trampoline-Blink.cpp.jinja2\")\n",
    "oil_template = templateEnv.get_template(\"avr-AUTOSAR-trampoline-Blink.oil.jinja2\")"
   ]
  },
  {
   "cell_type": "code",
   "execution_count": 10,
   "metadata": {},
   "outputs": [
    {
     "data": {
      "text/plain": [
       "'avrdude -carduino -v -V -patmega328p -P /dev/ttyUSB0 -D -Uflash:w:avr-AUTOSAR-trampoline-Blink.elf.hex\\n'"
      ]
     },
     "execution_count": 10,
     "metadata": {},
     "output_type": "execute_result"
    }
   ],
   "source": [
    "tasks = list()\n",
    "task_default = {\n",
    "    \"alarmtime\": 5000,\n",
    "    \"cycletime\": 1000,\n",
    "    \"priority\": 20,\n",
    "    \"stacksize\": 128,\n",
    "    \"c_type\": \"unsigned char\"\n",
    "}\n",
    "\n",
    "cycletime=100\n",
    "for pin in range(8, 14):\n",
    "    task = deepcopy(task_default)\n",
    "    task[\"name\"]=f\"blinkTaskPin{pin}\"\n",
    "    task[\"pin\"]=pin\n",
    "    task[\"cycletime\"]=cycletime\n",
    "    tasks.append(task)\n",
    "    cycletime=cycletime*2\n",
    "    \n",
    "with open(\"avr-AUTOSAR-trampoline-Blink.cpp\", \"w\") as fid:\n",
    "    print(cpp_template.render(tasks=tasks), file=fid)\n",
    "with open(\"avr-AUTOSAR-trampoline-Blink.oil\", \"w\") as fid:\n",
    "    print(oil_template.render(tasks=tasks), file=fid)\n",
    "    \n",
    "make()\n",
    "make(\"flash\")"
   ]
  }
 ],
 "metadata": {
  "kernelspec": {
   "display_name": "Python 3",
   "language": "python",
   "name": "python3"
  },
  "language_info": {
   "codemirror_mode": {
    "name": "ipython",
    "version": 3
   },
   "file_extension": ".py",
   "mimetype": "text/x-python",
   "name": "python",
   "nbconvert_exporter": "python",
   "pygments_lexer": "ipython3",
   "version": "3.6.8"
  }
 },
 "nbformat": 4,
 "nbformat_minor": 2
}
