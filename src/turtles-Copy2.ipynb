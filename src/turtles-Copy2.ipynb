{
 "cells": [
  {
   "cell_type": "code",
   "execution_count": 3,
   "metadata": {},
   "outputs": [],
   "source": [
    "from jinja2 import Template\n",
    "from copy import deepcopy"
   ]
  },
  {
   "cell_type": "code",
   "execution_count": 54,
   "metadata": {},
   "outputs": [],
   "source": [
    "cpp_template = Template(\"\"\"\n",
    "#include \"Arduino.h\"\n",
    "#undef ISR // remove the avr-gcc ISR version\n",
    "extern \"C\" {\n",
    "#include \"tpl_app_config.h\"\n",
    "#include \"tpl_os.h\" //set the OSEK ISR version.\n",
    "}\n",
    "\n",
    "void setup() {\n",
    "{% for task in tasks %}\n",
    "  pinMode({{ task.pin }}, OUTPUT);\n",
    "{%- endfor %}\n",
    "}\n",
    "\n",
    "{% for task in tasks %}\n",
    "TASK({{ task.name }}) {\n",
    "  static {{ task.c_type }} nb = 0;\n",
    "  digitalWrite({{ task.pin }}, nb++ & 0x01);\n",
    "}\n",
    "{% endfor %}\n",
    "\"\"\")"
   ]
  },
  {
   "cell_type": "code",
   "execution_count": 57,
   "metadata": {},
   "outputs": [],
   "source": [
    "tasks = list()\n",
    "task_default = {\n",
    "    \"alarmtime\": 5000,\n",
    "    \"cycletime\": 1000,\n",
    "    \"priority\": 20,\n",
    "    \"stacksize\": 256,\n",
    "    \"c_type\": \"unsigned char\"\n",
    "}\n",
    "\n",
    "cycletime=100\n",
    "for pin in range(8, 14):\n",
    "    task = deepcopy(task_default)\n",
    "    task[\"name\"]=f\"blinkTaskPin{pin}\"\n",
    "    task[\"pin\"]=pin\n",
    "    task[\"cycletime\"]=cycletime\n",
    "    tasks.append(task)\n",
    "    cycletime=cycletime*2"
   ]
  },
  {
   "cell_type": "code",
   "execution_count": 58,
   "metadata": {},
   "outputs": [],
   "source": [
    "with open(\"avr-AUTOSAR-trampoline-Blink.cpp\", \"w\") as fid:\n",
    "    print(cpp_template.render(tasks=tasks), file=fid)"
   ]
  },
  {
   "cell_type": "code",
   "execution_count": 34,
   "metadata": {},
   "outputs": [
    {
     "data": {
      "text/plain": [
       "'clang-format-7 -i -style=LLVM avr-AUTOSAR-trampoline-Blink.cpp\\n'"
      ]
     },
     "execution_count": 34,
     "metadata": {},
     "output_type": "execute_result"
    }
   ],
   "source": [
    "import subprocess\n",
    "\n",
    "def make(*args):\n",
    "    return subprocess.check_output([\"make\", *args]).decode(\"UTF-8\")\n",
    "\n",
    "make(\"format\")"
   ]
  },
  {
   "cell_type": "code",
   "execution_count": 8,
   "metadata": {},
   "outputs": [],
   "source": [
    "with open(\"avr-AUTOSAR-trampoline-Blink.elf.hex.size\", \"r\") as fid:\n",
    "    keys, values = fid.readlines()\n",
    "    hex_size = dict()\n",
    "    for key, value in zip(keys.split(\"\\t\"), values.split(\"\\t\")):\n",
    "        key = key.strip()\n",
    "        value = value.strip()\n",
    "        hex_size[key]=value"
   ]
  },
  {
   "cell_type": "code",
   "execution_count": 24,
   "metadata": {},
   "outputs": [
    {
     "data": {
      "text/plain": [
       "{'text': '0',\n",
       " 'data': '8024',\n",
       " 'bss': '0',\n",
       " 'dec': '8024',\n",
       " 'hex': '1f58',\n",
       " 'filename': 'avr-AUTOSAR-trampoline-Blink.elf.hex'}"
      ]
     },
     "execution_count": 24,
     "metadata": {},
     "output_type": "execute_result"
    }
   ],
   "source": [
    "hex_size"
   ]
  },
  {
   "cell_type": "code",
   "execution_count": 39,
   "metadata": {},
   "outputs": [],
   "source": [
    "for task in tasks:\n",
    "    task[\"c_type\"]=\"long long\""
   ]
  },
  {
   "cell_type": "code",
   "execution_count": 40,
   "metadata": {},
   "outputs": [
    {
     "data": {
      "text/plain": [
       "[{'alarmtime': 5000,\n",
       "  'cycletime': 10,\n",
       "  'priority': 20,\n",
       "  'stacksize': 256,\n",
       "  'c_type': 'long long',\n",
       "  'name': 'blinkTaskPin8',\n",
       "  'pin': 8},\n",
       " {'alarmtime': 5000,\n",
       "  'cycletime': 20,\n",
       "  'priority': 20,\n",
       "  'stacksize': 256,\n",
       "  'c_type': 'long long',\n",
       "  'name': 'blinkTaskPin9',\n",
       "  'pin': 9},\n",
       " {'alarmtime': 5000,\n",
       "  'cycletime': 40,\n",
       "  'priority': 20,\n",
       "  'stacksize': 256,\n",
       "  'c_type': 'long long',\n",
       "  'name': 'blinkTaskPin10',\n",
       "  'pin': 10},\n",
       " {'alarmtime': 5000,\n",
       "  'cycletime': 80,\n",
       "  'priority': 20,\n",
       "  'stacksize': 256,\n",
       "  'c_type': 'long long',\n",
       "  'name': 'blinkTaskPin11',\n",
       "  'pin': 11},\n",
       " {'alarmtime': 5000,\n",
       "  'cycletime': 160,\n",
       "  'priority': 20,\n",
       "  'stacksize': 256,\n",
       "  'c_type': 'long long',\n",
       "  'name': 'blinkTaskPin12',\n",
       "  'pin': 12},\n",
       " {'alarmtime': 5000,\n",
       "  'cycletime': 320,\n",
       "  'priority': 20,\n",
       "  'stacksize': 256,\n",
       "  'c_type': 'long long',\n",
       "  'name': 'blinkTaskPin13',\n",
       "  'pin': 13}]"
      ]
     },
     "execution_count": 40,
     "metadata": {},
     "output_type": "execute_result"
    }
   ],
   "source": [
    "tasks"
   ]
  },
  {
   "cell_type": "code",
   "execution_count": 49,
   "metadata": {},
   "outputs": [],
   "source": [
    "results = dict()\n",
    "\n",
    "for c_type in [\"char\", \"short\", \"int\", \"long\", \"long long\"]:\n",
    "    make(\"clean\")\n",
    "    for task in tasks:\n",
    "        task[\"c_type\"]=c_type\n",
    "    with open(\"avr-AUTOSAR-trampoline-Blink.cpp\", \"w\") as fid:\n",
    "        print(cpp_template.render(tasks=tasks), file=fid)\n",
    "    make()\n",
    "\n",
    "    with open(\"avr-AUTOSAR-trampoline-Blink.elf.hex.size\", \"r\") as fid:\n",
    "        keys, values = fid.readlines()\n",
    "        hex_size = dict()\n",
    "        for key, value in zip(keys.split(\"\\t\"), values.split(\"\\t\")):\n",
    "            key = key.strip()\n",
    "            value = value.strip()\n",
    "            hex_size[key]=value\n",
    "        results[c_type] = hex_size[\"data\"]"
   ]
  },
  {
   "cell_type": "code",
   "execution_count": 50,
   "metadata": {},
   "outputs": [
    {
     "data": {
      "text/plain": [
       "{'char': '8024',\n",
       " 'short': '8072',\n",
       " 'int': '8072',\n",
       " 'long': '8228',\n",
       " 'long long': '8420'}"
      ]
     },
     "execution_count": 50,
     "metadata": {},
     "output_type": "execute_result"
    }
   ],
   "source": [
    "results"
   ]
  },
  {
   "cell_type": "code",
   "execution_count": 53,
   "metadata": {},
   "outputs": [
    {
     "data": {
      "text/plain": [
       "8.0"
      ]
     },
     "execution_count": 53,
     "metadata": {},
     "output_type": "execute_result"
    }
   ],
   "source": [
    "(8072-8024)/6"
   ]
  }
 ],
 "metadata": {
  "kernelspec": {
   "display_name": "Python 3",
   "language": "python",
   "name": "python3"
  },
  "language_info": {
   "codemirror_mode": {
    "name": "ipython",
    "version": 3
   },
   "file_extension": ".py",
   "mimetype": "text/x-python",
   "name": "python",
   "nbconvert_exporter": "python",
   "pygments_lexer": "ipython3",
   "version": "3.6.8"
  }
 },
 "nbformat": 4,
 "nbformat_minor": 2
}
