{
 "cells": [
  {
   "cell_type": "code",
   "execution_count": 3,
   "metadata": {},
   "outputs": [],
   "source": [
    "from jinja2 import Template\n",
    "\n",
    "from copy import deepcopy\n",
    "\n",
    "oil_template = Template(\"\"\"\n",
    "OIL_VERSION = \"2.5\" : \"test\" ;\n",
    "\n",
    "CPU test {\n",
    "  OS config {\n",
    "    STATUS = STANDARD;\n",
    "    BUILD = TRUE {\n",
    "      TRAMPOLINE_BASE_PATH = \"../trampoline\";\n",
    "      APP_NAME = \"avr-AUTOSAR-trampoline-Blink.elf\";\n",
    "      APP_SRC = \"avr-AUTOSAR-trampoline-Blink.cpp\";\n",
    "      CPPCOMPILER = \"avr-g++\";\n",
    "      COMPILER = \"avr-gcc\";\n",
    "      LINKER = \"avr-gcc\";\n",
    "      ASSEMBLER = \"avr-gcc\";\n",
    "      COPIER = \"avr-objcopy\";\n",
    "      SYSTEM = PYTHON;\n",
    "      LIBRARY = serial;\n",
    "    };\n",
    "    SYSTEM_CALL = TRUE;\n",
    "  };\n",
    "\n",
    "  APPMODE stdAppmode {};\n",
    "\n",
    "{% for task in tasks %}\n",
    "  ALARM {{ task.name }}Alarm {\n",
    "    COUNTER= SystemCounter;\n",
    "    ACTION = ACTIVATETASK {\n",
    "      TASK = {{ task.name }};\n",
    "    };\n",
    "    AUTOSTART = TRUE {\n",
    "      ALARMTIME = {{ task.alarmtime }};\n",
    "      CYCLETIME = {{ task.cycletime }};\n",
    "      APPMODE = stdAppmode;\n",
    "    };\n",
    "  };\n",
    "  TASK {{ task.name }} {\n",
    "    PRIORITY = {{ task.priority }};\n",
    "    AUTOSTART = FALSE;\n",
    "    ACTIVATION = 1;\n",
    "    SCHEDULE = FULL;\n",
    "    STACKSIZE = {{ task.stacksize }};\n",
    "  };\n",
    "{% endfor %}\n",
    "\n",
    "};\n",
    "\"\"\")"
   ]
  },
  {
   "cell_type": "code",
   "execution_count": 13,
   "metadata": {},
   "outputs": [],
   "source": [
    "tasks = list()\n",
    "task_default = {\n",
    "    \"alarmtime\": 5000,\n",
    "    \"cycletime\": 10,\n",
    "    \"priority\": 20,\n",
    "    \"stacksize\": 256,\n",
    "    \"c_type\": \"unsigned char\"\n",
    "}\n",
    "\n",
    "cycletime=10\n",
    "for pin in range(8, 14):\n",
    "    task = deepcopy(task_default)\n",
    "    task[\"name\"]=f\"blinkTaskPin{pin}\"\n",
    "    task[\"pin\"]=pin\n",
    "    task[\"cycletime\"]=cycletime\n",
    "    tasks.append(task)\n",
    "    cycletime=cycletime*2\n",
    "with open(\"avr-AUTOSAR-trampoline-Blink.oil\", \"w\") as fid:\n",
    "    print(oil_template.render(tasks=tasks), file=fid)"
   ]
  },
  {
   "cell_type": "code",
   "execution_count": 46,
   "metadata": {},
   "outputs": [
    {
     "name": "stdout",
     "output_type": "stream",
     "text": [
      "python3 make.py all\n",
      "\u001b[1m\u001b[94mNothing to make.\u001b[0m\n",
      "[ 50%] \u001b[1m\u001b[94mCompiling avr-AUTOSAR-trampoline-Blink.cpp\u001b[0m\n",
      "[100%] \u001b[1m\u001b[94mLinking avr-AUTOSAR-trampoline-Blink.elf\u001b[0m\n",
      "\u001b[1m\u001b[94m       Generating binary avr-AUTOSAR-trampoline-Blink.elf.hex from avr-AUTOSAR-trampoline-Blink.elf\u001b[0m\n",
      "avr-size avr-AUTOSAR-trampoline-Blink.elf.hex > avr-AUTOSAR-trampoline-Blink.elf.hex.size\n",
      "avr-size avr-AUTOSAR-trampoline-Blink.elf > avr-AUTOSAR-trampoline-Blink.elf.size\n"
     ]
    }
   ],
   "source": [
    "cpp_template = Template(\"\"\"\n",
    "#include \"Arduino.h\"\n",
    "#undef ISR // remove the avr-gcc ISR version\n",
    "extern \"C\" {\n",
    "#include \"tpl_app_config.h\"\n",
    "#include \"tpl_os.h\" //set the OSEK ISR version.\n",
    "}\n",
    "\n",
    "void setup() {\n",
    "{% for task in tasks %}\n",
    "  pinMode({{ task.pin }}, OUTPUT);\n",
    "{% endfor %}\n",
    "\n",
    "  // \"Ground\" for Interrupts.\n",
    "  pinMode(4, OUTPUT);\n",
    "  digitalWrite(4, LOW);\n",
    "\n",
    "  // Serial.\n",
    "  Serial.begin(115200);\n",
    "}\n",
    "\n",
    "{% for task in tasks %}\n",
    "TASK({{ task.name }}) {\n",
    "  static {{ task.c_type }} nb = 0;\n",
    "  digitalWrite({{ task.pin }}, nb++ & 0x01);\n",
    "}\n",
    "{% endfor %}\n",
    "\"\"\")\n",
    "with open(\"avr-AUTOSAR-trampoline-Blink.cpp\", \"w\") as fid:\n",
    "    print(cpp_template.render(tasks=tasks), file=fid)\n",
    "!make"
   ]
  },
  {
   "cell_type": "code",
   "execution_count": 47,
   "metadata": {},
   "outputs": [],
   "source": [
    "with open(\"avr-AUTOSAR-trampoline-Blink.elf.hex.size\", \"r\") as fid:\n",
    "    data = fid.read()"
   ]
  },
  {
   "cell_type": "code",
   "execution_count": 48,
   "metadata": {},
   "outputs": [],
   "source": [
    "import subprocess\n",
    "\n",
    "def make(*args):\n",
    "    return subprocess.check_output([\"make\", *args]).decode(\"UTF-8\")\n",
    "\n",
    "make()"
   ]
  },
  {
   "cell_type": "code",
   "execution_count": 51,
   "metadata": {},
   "outputs": [
    {
     "name": "stdout",
     "output_type": "stream",
     "text": [
      "   text\t   data\t    bss\t    dec\t    hex\tfilename\r\n",
      "      0\t   8024\t      0\t   8024\t   1f58\tavr-AUTOSAR-trampoline-Blink.elf.hex\r\n"
     ]
    }
   ],
   "source": [
    "!cat avr-AUTOSAR-trampoline-Blink.elf.hex.size"
   ]
  },
  {
   "cell_type": "code",
   "execution_count": 52,
   "metadata": {},
   "outputs": [],
   "source": [
    "keys, values, _= data.split(\"\\n\")"
   ]
  },
  {
   "cell_type": "code",
   "execution_count": 53,
   "metadata": {},
   "outputs": [],
   "source": [
    "hex_size = dict()\n",
    "for key, value in zip(keys.split(\"\\t\"), values.split(\"\\t\")):\n",
    "    key = key.strip()\n",
    "    value = value.strip()\n",
    "    hex_size[key]=value"
   ]
  },
  {
   "cell_type": "code",
   "execution_count": 54,
   "metadata": {},
   "outputs": [
    {
     "data": {
      "text/plain": [
       "{'text': '0',\n",
       " 'data': '8024',\n",
       " 'bss': '0',\n",
       " 'dec': '8024',\n",
       " 'hex': '1f58',\n",
       " 'filename': 'avr-AUTOSAR-trampoline-Blink.elf.hex'}"
      ]
     },
     "execution_count": 54,
     "metadata": {},
     "output_type": "execute_result"
    }
   ],
   "source": [
    "hex_size"
   ]
  },
  {
   "cell_type": "code",
   "execution_count": null,
   "metadata": {},
   "outputs": [],
   "source": []
  }
 ],
 "metadata": {
  "kernelspec": {
   "display_name": "Python 3",
   "language": "python",
   "name": "python3"
  },
  "language_info": {
   "codemirror_mode": {
    "name": "ipython",
    "version": 3
   },
   "file_extension": ".py",
   "mimetype": "text/x-python",
   "name": "python",
   "nbconvert_exporter": "python",
   "pygments_lexer": "ipython3",
   "version": "3.6.8"
  }
 },
 "nbformat": 4,
 "nbformat_minor": 2
}
