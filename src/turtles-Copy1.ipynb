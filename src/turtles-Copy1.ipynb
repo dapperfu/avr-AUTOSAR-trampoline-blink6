{
 "cells": [
  {
   "cell_type": "code",
   "execution_count": 3,
   "metadata": {},
   "outputs": [],
   "source": [
    "from jinja2 import Template\n",
    "\n",
    "from copy import deepcopy\n",
    "\n",
    "oil_template = Template(\"\"\"\n",
    "OIL_VERSION = \"2.5\" : \"test\" ;\n",
    "\n",
    "CPU test {\n",
    "  OS config {\n",
    "    STATUS = STANDARD;\n",
    "    BUILD = TRUE {\n",
    "      TRAMPOLINE_BASE_PATH = \"../trampoline\";\n",
    "      APP_NAME = \"avr-AUTOSAR-trampoline-Blink.elf\";\n",
    "      APP_SRC = \"avr-AUTOSAR-trampoline-Blink.cpp\";\n",
    "      CPPCOMPILER = \"avr-g++\";\n",
    "      COMPILER = \"avr-gcc\";\n",
    "      LINKER = \"avr-gcc\";\n",
    "      ASSEMBLER = \"avr-gcc\";\n",
    "      COPIER = \"avr-objcopy\";\n",
    "      SYSTEM = PYTHON;\n",
    "      LIBRARY = serial;\n",
    "    };\n",
    "    SYSTEM_CALL = TRUE;\n",
    "  };\n",
    "\n",
    "  APPMODE stdAppmode {};\n",
    "\n",
    "{% for task in tasks %}\n",
    "  ALARM {{ task.name }}Alarm {\n",
    "    COUNTER= SystemCounter;\n",
    "    ACTION = ACTIVATETASK {\n",
    "      TASK = {{ task.name }};\n",
    "    };\n",
    "    AUTOSTART = TRUE {\n",
    "      ALARMTIME = {{ task.alarmtime }};\n",
    "      CYCLETIME = {{ task.cycletime }};\n",
    "      APPMODE = stdAppmode;\n",
    "    };\n",
    "  };\n",
    "  TASK {{ task.name }} {\n",
    "    PRIORITY = {{ task.alarmtime }};\n",
    "    AUTOSTART = FALSE;\n",
    "    ACTIVATION = 1;\n",
    "    SCHEDULE = FULL;\n",
    "    STACKSIZE = {{ task.stacksize }};\n",
    "  };\n",
    "{% endfor %}\n",
    "\n",
    "};\n",
    "\"\"\")"
   ]
  },
  {
   "cell_type": "code",
   "execution_count": 9,
   "metadata": {},
   "outputs": [],
   "source": [
    "tasks = list()\n",
    "task_default = {\n",
    "    \"alarmtime\": 5000,\n",
    "    \"cycletime\": 10,\n",
    "    \"priority\": 20,\n",
    "    \"stacksize\": 256,\n",
    "}\n",
    "\n",
    "cycletime=10\n",
    "for pin in range(8, 14):\n",
    "    task = deepcopy(task_default)\n",
    "    task[\"name\"]=f\"blinkTaskPin{pin}\"\n",
    "    task[\"cycletime\"]=cycletime\n",
    "    tasks.append(task)\n",
    "    cycletime=cycletime*2\n",
    "with open(\"avr-AUTOSAR-trampoline-Blink.oil\", \"w\") as fid:\n",
    "    print(oil_template.render(tasks=tasks), file=fid)"
   ]
  },
  {
   "cell_type": "code",
   "execution_count": 8,
   "metadata": {},
   "outputs": [],
   "source": [
    "oil_template.render?"
   ]
  },
  {
   "cell_type": "code",
   "execution_count": null,
   "metadata": {},
   "outputs": [],
   "source": []
  }
 ],
 "metadata": {
  "kernelspec": {
   "display_name": "Python 3",
   "language": "python",
   "name": "python3"
  },
  "language_info": {
   "codemirror_mode": {
    "name": "ipython",
    "version": 3
   },
   "file_extension": ".py",
   "mimetype": "text/x-python",
   "name": "python",
   "nbconvert_exporter": "python",
   "pygments_lexer": "ipython3",
   "version": "3.6.8"
  }
 },
 "nbformat": 4,
 "nbformat_minor": 2
}
